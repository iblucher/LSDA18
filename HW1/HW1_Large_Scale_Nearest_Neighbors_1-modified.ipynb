{
 "cells": [
  {
   "cell_type": "code",
   "execution_count": 1,
   "metadata": {},
   "outputs": [],
   "source": [
    "import time\n",
    "import numpy\n",
    "import matplotlib.pyplot as plt\n",
    "numpy.random.seed(1)\n",
    "from sklearn.neighbors import KNeighborsClassifier\n",
    "from sklearn import preprocessing\n",
    "from sklearn.metrics import accuracy_score"
   ]
  },
  {
   "cell_type": "markdown",
   "metadata": {},
   "source": [
    "We will make use of a training and a test set that are based on the popular covertype data set (https://archive.ics.uci.edu/ml/datasets/covertype). For each instance, we are given 54 features. Since the first 10 features contain much larger values than the remaining ones -- which contain values between 0 and 1 -- we rescale them to 0 and 1 as well."
   ]
  },
  {
   "cell_type": "code",
   "execution_count": 2,
   "metadata": {},
   "outputs": [
    {
     "name": "stdout",
     "output_type": "stream",
     "text": [
      "Number of training instances: 200000\n",
      "Number of features: 54\n",
      "Number of test instances: 25000\n"
     ]
    }
   ],
   "source": [
    "# load training and test set\n",
    "data_train = numpy.genfromtxt(\"covtype.train.csv\", delimiter=',')\n",
    "data_test = numpy.genfromtxt(\"covtype.test.csv\", delimiter=',')\n",
    "Xtrain, ytrain = data_train[:,:-1], data_train[:,-1]\n",
    "Xtest, ytest = data_test[:,:-1], data_test[:,-1]\n",
    "print(\"Number of training instances: {}\".format(Xtrain.shape[0]))\n",
    "print(\"Number of features: {}\".format(Xtrain.shape[1]))\n",
    "print(\"Number of test instances: {}\".format(Xtest.shape[0]))\n",
    "\n",
    "# rescale\n",
    "scaler = preprocessing.MinMaxScaler()\n",
    "scaler.fit(Xtrain[:, :10])\n",
    "Xtrain[:,:10] = scaler.transform(Xtrain[:,:10])\n",
    "Xtest[:,:10] = scaler.transform(Xtest[:,:10])"
   ]
  },
  {
   "cell_type": "code",
   "execution_count": 3,
   "metadata": {},
   "outputs": [],
   "source": [
    "# fit the nearest neighbor model!\n",
    "model = KNeighborsClassifier(n_neighbors=10, algorithm='kd_tree')\n",
    "\n",
    "#Xtrain_new = Xtrain[:, :5]\n",
    "#Xtest_new = Xtest[:, :5]\n",
    "\n",
    "#model.fit(Xtrain_new, ytrain)"
   ]
  },
  {
   "cell_type": "code",
   "execution_count": 4,
   "metadata": {},
   "outputs": [
    {
     "name": "stdout",
     "output_type": "stream",
     "text": [
      "[0]\n",
      "[0, 5]\n",
      "[0, 5, 9]\n",
      "[0, 5, 9, 12]\n",
      "[0, 5, 9, 12, 23]\n"
     ]
    },
    {
     "data": {
      "image/png": "[encoded data removed]",
      "text/plain": [
       "<Figure size 432x288 with 1 Axes>"
      ]
     },
     "metadata": {},
     "output_type": "display_data"
    }
   ],
   "source": [
    "# initialize variables and lists\n",
    "feats = []\n",
    "error = []\n",
    "rounds = [1, 2, 3, 4, 5]\n",
    "\n",
    "# separate training and validation datasets from random 10000 instances of data_train\n",
    "data_fs = data_train[numpy.random.choice(len(data_train), size = 10000, replace = False), :]\n",
    "Xtrain_fs, ytrain_fs = data_fs[0:8000, :-1], data_fs[0:8000, -1]\n",
    "Xval_fs, yval_fs = data_fs[8000:10000, :-1], data_fs[8000:10000, -1]\n",
    "\n",
    "# feature selection loop\n",
    "for i in range(5):\n",
    "    min_err = 10\n",
    "    for f in range(54):\n",
    "        l = feats.copy()\n",
    "        l.append(f)\n",
    "        X = Xtrain_fs[:, l]\n",
    "        Xv = Xval_fs[:, l]\n",
    "        model.fit(X, ytrain_fs)\n",
    "        pred = model.predict(Xv)\n",
    "        ac = accuracy_score(yval_fs, pred)\n",
    "        err = 1 - ac\n",
    "        #print('Feature {}: {}' .format(f, err))\n",
    "        if(err < min_err):\n",
    "            min_err = err\n",
    "            ind = f\n",
    "    feats.append(ind)\n",
    "    error.append(min_err)\n",
    "    print(feats)\n",
    "    \n",
    "plt.plot(rounds, error)\n",
    "plt.xlabel('Round number')\n",
    "plt.ylabel('Lowest validation error after round')\n",
    "plt.savefig('fs.png', dpi=300, bbox_inches='tight')"
   ]
  },
  {
   "cell_type": "code",
   "execution_count": 8,
   "metadata": {},
   "outputs": [
    {
     "name": "stdout",
     "output_type": "stream",
     "text": [
      "(25000, 5)\n"
     ]
    },
    {
     "data": {
      "text/plain": [
       "KNeighborsClassifier(algorithm='kd_tree', leaf_size=30, metric='minkowski',\n",
       "           metric_params=None, n_jobs=1, n_neighbors=10, p=2,\n",
       "           weights='uniform')"
      ]
     },
     "execution_count": 8,
     "metadata": {},
     "output_type": "execute_result"
    }
   ],
   "source": [
    "Xtrain_best = Xtrain[:, feats]\n",
    "Xtest_best = Xtest[:, feats]\n",
    "\n",
    "print(Xtest_best.shape)\n",
    "\n",
    "model.fit(Xtrain_best, ytrain)"
   ]
  },
  {
   "cell_type": "code",
   "execution_count": 9,
   "metadata": {},
   "outputs": [
    {
     "name": "stdout",
     "output_type": "stream",
     "text": [
      "1.6255009999999999\n"
     ]
    }
   ],
   "source": [
    "# apply the model and compute runtime\n",
    "start = time.clock()\n",
    "preds = model.predict(Xtest_best)\n",
    "elapsed = time.clock() - start\n",
    "\n",
    "print(elapsed)"
   ]
  },
  {
   "cell_type": "code",
   "execution_count": 10,
   "metadata": {},
   "outputs": [
    {
     "name": "stdout",
     "output_type": "stream",
     "text": [
      "Accuracy on test set: 0.87712\n"
     ]
    }
   ],
   "source": [
    "# compute the accuracy on the test set\n",
    "acc = accuracy_score(ytest, preds)\n",
    "print(\"Accuracy on test set: {}\".format(acc))"
   ]
  }
 ],
 "metadata": {
  "kernelspec": {
   "display_name": "Python 3",
   "language": "python",
   "name": "python3"
  },
  "language_info": {
   "codemirror_mode": {
    "name": "ipython",
    "version": 3
   },
   "file_extension": ".py",
   "mimetype": "text/x-python",
   "name": "python",
   "nbconvert_exporter": "python",
   "pygments_lexer": "ipython3",
   "version": "3.5.2"
  }
 },
 "nbformat": 4,
 "nbformat_minor": 2
}
