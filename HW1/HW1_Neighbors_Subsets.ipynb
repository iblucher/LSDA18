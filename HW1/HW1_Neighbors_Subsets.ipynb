{
 "cells": [
  {
   "cell_type": "code",
   "execution_count": 1,
   "metadata": {},
   "outputs": [],
   "source": [
    "import numpy\n",
    "numpy.random.seed(1)\n",
    "from sklearn.neighbors import KNeighborsClassifier\n",
    "from sklearn import preprocessing\n",
    "from sklearn.metrics import accuracy_score"
   ]
  },
  {
   "cell_type": "markdown",
   "metadata": {},
   "source": [
    "We will make use of a training and a test set that are based on the popular covertype data set (https://archive.ics.uci.edu/ml/datasets/covertype). For each instance, we are given 54 features. Since the first 10 features contain much larger values than the remaining ones -- which contain values between 0 and 1 -- we rescale them to 0 and 1 as well."
   ]
  },
  {
   "cell_type": "code",
   "execution_count": 2,
   "metadata": {
    "scrolled": true
   },
   "outputs": [
    {
     "name": "stdout",
     "output_type": "stream",
     "text": [
      "Number of training instances: 200000\n",
      "Number of features: 54\n",
      "Number of test instances: 25000\n"
     ]
    }
   ],
   "source": [
    "# load training and test set\n",
    "data_train = numpy.genfromtxt(\"covtype.train.csv\", delimiter=',')\n",
    "data_test = numpy.genfromtxt(\"covtype.test.csv\", delimiter=',')\n",
    "Xtrain, ytrain = data_train[:,:-1], data_train[:,-1]\n",
    "Xtest, ytest = data_test[:,:-1], data_test[:,-1]\n",
    "print(\"Number of training instances: {}\".format(Xtrain.shape[0]))\n",
    "print(\"Number of features: {}\".format(Xtrain.shape[1]))\n",
    "print(\"Number of test instances: {}\".format(Xtest.shape[0]))\n",
    "\n",
    "# rescale\n",
    "scaler = preprocessing.MinMaxScaler()\n",
    "scaler.fit(Xtrain[:, :10])\n",
    "Xtrain[:,:10] = scaler.transform(Xtrain[:,:10])\n",
    "Xtest[:,:10] = scaler.transform(Xtest[:,:10])"
   ]
  },
  {
   "cell_type": "code",
   "execution_count": 16,
   "metadata": {},
   "outputs": [
    {
     "data": {
      "text/plain": [
       "KNeighborsClassifier(algorithm='brute', leaf_size=30, metric='minkowski',\n",
       "           metric_params=None, n_jobs=1, n_neighbors=10, p=2,\n",
       "           weights='uniform')"
      ]
     },
     "execution_count": 16,
     "metadata": {},
     "output_type": "execute_result"
    }
   ],
   "source": [
    "# fit the nearest neighbor model!\n",
    "# do NOT CHANGE the parameter for algorithm\n",
    "model = KNeighborsClassifier(n_neighbors=10, algorithm='brute')\n",
    "\n",
    "# separate 5000 first instances of training set to fit the model\n",
    "\n",
    "Xtrain_fit = Xtrain[numpy.random.choice(len(Xtrain), size = 5000)]\n",
    "ytrain_fit = ytrain[numpy.random.choice(len(ytrain), size = 5000)]\n",
    "\n",
    "model.fit(Xtrain_fit, ytrain_fit)"
   ]
  },
  {
   "cell_type": "code",
   "execution_count": 17,
   "metadata": {},
   "outputs": [],
   "source": [
    "# apply the model\n",
    "# FIXME: In its current form, the code crashes here ...\n",
    "preds = model.predict(Xtest)"
   ]
  },
  {
   "cell_type": "code",
   "execution_count": 18,
   "metadata": {},
   "outputs": [
    {
     "name": "stdout",
     "output_type": "stream",
     "text": [
      "Accuracy on test set: 0.4264\n"
     ]
    }
   ],
   "source": [
    "# compute the accuracy on the test set\n",
    "acc = accuracy_score(ytest, preds)\n",
    "print(\"Accuracy on test set: {}\".format(acc))"
   ]
  }
 ],
 "metadata": {
  "kernelspec": {
   "display_name": "Python 3",
   "language": "python",
   "name": "python3"
  },
  "language_info": {
   "codemirror_mode": {
    "name": "ipython",
    "version": 3
   },
   "file_extension": ".py",
   "mimetype": "text/x-python",
   "name": "python",
   "nbconvert_exporter": "python",
   "pygments_lexer": "ipython3",
   "version": "3.5.2"
  }
 },
 "nbformat": 4,
 "nbformat_minor": 2
}
